{
 "cells": [
  {
   "cell_type": "code",
   "execution_count": 2,
   "metadata": {},
   "outputs": [
    {
     "data": {
      "text/plain": [
       "'220 252 258 232'"
      ]
     },
     "execution_count": 2,
     "metadata": {},
     "output_type": "execute_result"
    }
   ],
   "source": [
    "# Counting DNA Nucleotides\n",
    "# Given: A DNA string s of length at most 1000 nt.\n",
    "# Return: Four integers (separated by spaces) counting the respective number of times that the symbols 'A', 'C', 'G', and 'T' occur in s.\n",
    "\n",
    "def nucleotides_count(genome_file):\n",
    "\n",
    "    with open(genome_file, 'r') as file:\n",
    "        sample = file.read()\n",
    "\n",
    "    nuc_count = {'A': 0, 'C': 0, 'G': 0, 'T': 0}\n",
    "\n",
    "    for nuc in sample:\n",
    "        if nuc in nuc_count:\n",
    "            nuc_count[nuc] += 1\n",
    "\n",
    "    return \" \".join(str(nuc_count[nucleotide]) for nucleotide in ['A', 'C', 'G', 'T'])\n",
    "\n",
    "genome_file = \"datasets/rosalind_dna.txt\"\n",
    "nucleotides_count(genome_file)"
   ]
  },
  {
   "cell_type": "code",
   "execution_count": 4,
   "metadata": {},
   "outputs": [
    {
     "name": "stdout",
     "output_type": "stream",
     "text": [
      "CCGUUGGAGCACCACAGCUCCGUUUAGAGCGAGCCGUAUCUAUUACGCGAGCCUUGAAUCCAUUGGAAAGGCCAAGUAGAGACAGGCUUGUAUCACACUCUGUUAGAUAGCAUCUAGUGAGGUGUCGAGCGGACUGGGCGUGUAAAUAAAGCAGCAACUUAUUACAAUGGGGCCAGAGGAUCAACAUACCUAACCGAUUGUCCAAAGUUACCUUCGUGGUCUCAUAACGGACUGGCAUCGCUGUGGCAGCAUUGCACGAUGGUGCGCUCAGUACUGGGAUUCCCCUUAACCCUCCACUAGGUUCAGUGACCGAAGAGAGUGGCCCUCGUGUGAUACUGGAUGGCUCGAAUCGUAACAAACCCCGGUCGAUGUCUGUAGCGUAGUUUAUAAACAACAAAUGUCUUUUCGCCGGUUGCAUAACUGUUUCAUUGUACUUUCCAGCCCUCCGCGAAUGUGCUGCCAGGAGCUUGGAAUGCUCCGGAGACGAUUUGACUCAACUAUCUCUCGAACGAGUCGUCCUGUACUUGUGGGGACCAAUAUCAGAUAGGGGUUCUCUAAGCCUUACCAUUAGUAAUAUUUCUCGCUUCGGGGGGCGGACCUCGGAUGCUCUACCCGCGCCGAAGAGCCUCACACUAAAACUGACAGGGUCUACUUGGUGUAUAGGCGGGGGUUUCAAUGGGUCAUUGUUCUCAUCUGUCAACAACUCUUAUAUGUUCGUUCUGGUAUAACUGUGACGACGUAUAUGAAGGUAUUCGGCAGCAGCUAUGAUGGCGACAGAUCUUGUAGGAAUAGCCUGCCGCCAUUCGGGAUUCCUAUCCAGCCUGCCUCACAGGUCAGCUUGAAGCACCAAAGCAGUAAUAAUUGAGCCAUCGUAAAAGAGGUUAUACACUCUAUCGUGACGUUUCAUUCACGCGUUUCACAUGCUGUAUAAACGUCUUAGAAGAAACUAUCCACUUAGUGGUGACACGCAUUGACCCAGCC\n",
      "\n"
     ]
    }
   ],
   "source": [
    "# Transcribing DNA into RNA\n",
    "# Given: A DNA string t having length at most 1000 nt.\n",
    "# Return: The transcribed RNA string of t.\n",
    "\n",
    "def transcribe(genome_file):\n",
    "    with open(genome_file, 'r') as file:\n",
    "        dna = file.read()\n",
    "    \n",
    "    rna = dna.replace('T', 'U')\n",
    "\n",
    "    return print(rna)\n",
    "\n",
    "genome_file = \"datasets/rosalind_rna.txt\"\n",
    "\n",
    "transcribe(genome_file)\n"
   ]
  },
  {
   "cell_type": "code",
   "execution_count": 10,
   "metadata": {},
   "outputs": [
    {
     "data": {
      "text/plain": [
       "'AATTAAACAGGCGTTGCCGCGCCACGATCCCAGGTAAAGCAGCAGGGAACTGGGAGACAACAGGTAGGCCGTGGGTTCGCCCTCCAGGACTGTTAATCACAGAGATTTTGTAAATCGACTGATTGCGTACGGGTAAATGTGTTTCAAATTCTGCTAGTTGTCCAGCGAGGTCAGCGACGCTTTGTCAAGCGATTTGAACAACAATGGAACGTCAGGCAATTTGAGACTCGGCAGATTGAAAACTTGCGACTATAGAGAGTGTGGTCAATGTCTAGCCATCGTAACACCGGTATGCACTCATATATTCCTTATTCTCAATGGGTTGGTCCCTATTCCCAGAAAGGGTTAGAGCTCAGTACTTTTATCAGCTTATTCACCCTCCTTTACAAGTGCGCTGACCAGTGGATCGAGCAACTCAGCGCGGTATGCGAGGATTCTTAATTGAACCAGCTGTGTCAAGGAGGCCATTGAGCCTAATAGTTGGGGAAGCAGAAGTATGTGGATCAGATCACCGACGTTGACATCTCTGATCTTCCAATCGTCAAAACCCCAGAATATAGGTCTCGTACGTTACCACAATCCACCCACGTACGATTTTTTATAGGGAACTTGCCGCACGGGTATCACGGCCGAAAACGACCTTTCGTCTACTAGTGTGGATGAGAAAGCATCCAGAAGGCTTCCGAACCTTAGCAGATCTAGCAACTCCCTGTTTGTGCTGTGCAAGTCACAGCCTCTTTGGCCGCGAGGTTAACACTTATGAATACATTCTCCTAGGTCCAGGAGTAAAGGAAGGTGTAGTTACACA'"
      ]
     },
     "execution_count": 10,
     "metadata": {},
     "output_type": "execute_result"
    }
   ],
   "source": [
    "# The Secondary and Tertiary Structures of DNA\n",
    "# In DNA strings, symbols 'A' and 'T' are complements of each other, as are 'C' and 'G'.\n",
    "# The reverse complement of a DNA string s is the string scformed by reversing the symbols of s, \n",
    "# then taking the complement of each symbol (e.g., the reverse complement of \"GTCA\" is \"TGAC\"\n",
    "\n",
    "# Given: A DNA string s of length at most 1000 bp.\n",
    "# Return: The reverse complement sc of s.\n",
    "\n",
    "def reverse_complement(genome_file):\n",
    "    with open(genome_file, 'r') as file:\n",
    "        dna = file.read().strip()\n",
    "    reversed_dna = dna[::-1]\n",
    "    complement_map = {'A': 'T', 'T': 'A', 'C': 'G', 'G': 'C'}\n",
    "    new_string = \"\".join(complement_map.get(base, base) for base in reversed_dna)\n",
    "    return new_string\n",
    "\n",
    "def reverse_complement_pythonic(genome_file):\n",
    "    with open(genome_file, 'r') as file:\n",
    "        dna = file.read().strip()\n",
    "    return dna.translate(str.maketrans('ATGC', 'TAGC'))[::-1]\n",
    "\n",
    "genome_file = \"datasets/rosalind_revc.txt\"\n",
    "reverse_complement(genome_file)\n",
    "reverse_complement_pythonic(genome_file)\n"
   ]
  }
 ],
 "metadata": {
  "kernelspec": {
   "display_name": "Python 3",
   "language": "python",
   "name": "python3"
  },
  "language_info": {
   "codemirror_mode": {
    "name": "ipython",
    "version": 3
   },
   "file_extension": ".py",
   "mimetype": "text/x-python",
   "name": "python",
   "nbconvert_exporter": "python",
   "pygments_lexer": "ipython3",
   "version": "3.12.2"
  }
 },
 "nbformat": 4,
 "nbformat_minor": 2
}
