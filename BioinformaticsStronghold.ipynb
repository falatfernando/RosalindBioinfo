{
 "cells": [
  {
   "cell_type": "code",
   "execution_count": 2,
   "metadata": {},
   "outputs": [
    {
     "data": {
      "text/plain": [
       "'220 252 258 232'"
      ]
     },
     "execution_count": 2,
     "metadata": {},
     "output_type": "execute_result"
    }
   ],
   "source": [
    "# Counting DNA Nucleotides\n",
    "# Given: A DNA string s of length at most 1000 nt.\n",
    "# Return: Four integers (separated by spaces) counting the respective number of times that the symbols 'A', 'C', 'G', and 'T' occur in s.\n",
    "\n",
    "def nucleotides_count(genome_file):\n",
    "\n",
    "    with open(genome_file, 'r') as file:\n",
    "        sample = file.read()\n",
    "\n",
    "    nuc_count = {'A': 0, 'C': 0, 'G': 0, 'T': 0}\n",
    "\n",
    "    for nuc in sample:\n",
    "        if nuc in nuc_count:\n",
    "            nuc_count[nuc] += 1\n",
    "\n",
    "    return \" \".join(str(nuc_count[nucleotide]) for nucleotide in ['A', 'C', 'G', 'T'])\n",
    "\n",
    "genome_file = \"datasets/rosalind_dna.txt\"\n",
    "nucleotides_count(genome_file)"
   ]
  },
  {
   "cell_type": "code",
   "execution_count": 4,
   "metadata": {},
   "outputs": [
    {
     "name": "stdout",
     "output_type": "stream",
     "text": [
      "CCGUUGGAGCACCACAGCUCCGUUUAGAGCGAGCCGUAUCUAUUACGCGAGCCUUGAAUCCAUUGGAAAGGCCAAGUAGAGACAGGCUUGUAUCACACUCUGUUAGAUAGCAUCUAGUGAGGUGUCGAGCGGACUGGGCGUGUAAAUAAAGCAGCAACUUAUUACAAUGGGGCCAGAGGAUCAACAUACCUAACCGAUUGUCCAAAGUUACCUUCGUGGUCUCAUAACGGACUGGCAUCGCUGUGGCAGCAUUGCACGAUGGUGCGCUCAGUACUGGGAUUCCCCUUAACCCUCCACUAGGUUCAGUGACCGAAGAGAGUGGCCCUCGUGUGAUACUGGAUGGCUCGAAUCGUAACAAACCCCGGUCGAUGUCUGUAGCGUAGUUUAUAAACAACAAAUGUCUUUUCGCCGGUUGCAUAACUGUUUCAUUGUACUUUCCAGCCCUCCGCGAAUGUGCUGCCAGGAGCUUGGAAUGCUCCGGAGACGAUUUGACUCAACUAUCUCUCGAACGAGUCGUCCUGUACUUGUGGGGACCAAUAUCAGAUAGGGGUUCUCUAAGCCUUACCAUUAGUAAUAUUUCUCGCUUCGGGGGGCGGACCUCGGAUGCUCUACCCGCGCCGAAGAGCCUCACACUAAAACUGACAGGGUCUACUUGGUGUAUAGGCGGGGGUUUCAAUGGGUCAUUGUUCUCAUCUGUCAACAACUCUUAUAUGUUCGUUCUGGUAUAACUGUGACGACGUAUAUGAAGGUAUUCGGCAGCAGCUAUGAUGGCGACAGAUCUUGUAGGAAUAGCCUGCCGCCAUUCGGGAUUCCUAUCCAGCCUGCCUCACAGGUCAGCUUGAAGCACCAAAGCAGUAAUAAUUGAGCCAUCGUAAAAGAGGUUAUACACUCUAUCGUGACGUUUCAUUCACGCGUUUCACAUGCUGUAUAAACGUCUUAGAAGAAACUAUCCACUUAGUGGUGACACGCAUUGACCCAGCC\n",
      "\n"
     ]
    }
   ],
   "source": [
    "# Transcribing DNA into RNA\n",
    "# Given: A DNA string t having length at most 1000 nt.\n",
    "# Return: The transcribed RNA string of t.\n",
    "\n",
    "def transcribe(genome_file):\n",
    "    with open(genome_file, 'r') as file:\n",
    "        dna = file.read()\n",
    "    \n",
    "    rna = dna.replace('T', 'U')\n",
    "\n",
    "    return print(rna)\n",
    "\n",
    "genome_file = \"datasets/rosalind_rna.txt\"\n",
    "\n",
    "transcribe(genome_file)\n"
   ]
  },
  {
   "cell_type": "code",
   "execution_count": 10,
   "metadata": {},
   "outputs": [
    {
     "data": {
      "text/plain": [
       "'AATTAAACAGGCGTTGCCGCGCCACGATCCCAGGTAAAGCAGCAGGGAACTGGGAGACAACAGGTAGGCCGTGGGTTCGCCCTCCAGGACTGTTAATCACAGAGATTTTGTAAATCGACTGATTGCGTACGGGTAAATGTGTTTCAAATTCTGCTAGTTGTCCAGCGAGGTCAGCGACGCTTTGTCAAGCGATTTGAACAACAATGGAACGTCAGGCAATTTGAGACTCGGCAGATTGAAAACTTGCGACTATAGAGAGTGTGGTCAATGTCTAGCCATCGTAACACCGGTATGCACTCATATATTCCTTATTCTCAATGGGTTGGTCCCTATTCCCAGAAAGGGTTAGAGCTCAGTACTTTTATCAGCTTATTCACCCTCCTTTACAAGTGCGCTGACCAGTGGATCGAGCAACTCAGCGCGGTATGCGAGGATTCTTAATTGAACCAGCTGTGTCAAGGAGGCCATTGAGCCTAATAGTTGGGGAAGCAGAAGTATGTGGATCAGATCACCGACGTTGACATCTCTGATCTTCCAATCGTCAAAACCCCAGAATATAGGTCTCGTACGTTACCACAATCCACCCACGTACGATTTTTTATAGGGAACTTGCCGCACGGGTATCACGGCCGAAAACGACCTTTCGTCTACTAGTGTGGATGAGAAAGCATCCAGAAGGCTTCCGAACCTTAGCAGATCTAGCAACTCCCTGTTTGTGCTGTGCAAGTCACAGCCTCTTTGGCCGCGAGGTTAACACTTATGAATACATTCTCCTAGGTCCAGGAGTAAAGGAAGGTGTAGTTACACA'"
      ]
     },
     "execution_count": 10,
     "metadata": {},
     "output_type": "execute_result"
    }
   ],
   "source": [
    "# The Secondary and Tertiary Structures of DNA\n",
    "# In DNA strings, symbols 'A' and 'T' are complements of each other, as are 'C' and 'G'.\n",
    "# The reverse complement of a DNA string s is the string scformed by reversing the symbols of s, \n",
    "# then taking the complement of each symbol (e.g., the reverse complement of \"GTCA\" is \"TGAC\"\n",
    "\n",
    "# Given: A DNA string s of length at most 1000 bp.\n",
    "# Return: The reverse complement sc of s.\n",
    "\n",
    "def reverse_complement(genome_file):\n",
    "    with open(genome_file, 'r') as file:\n",
    "        dna = file.read().strip()\n",
    "    reversed_dna = dna[::-1]\n",
    "    complement_map = {'A': 'T', 'T': 'A', 'C': 'G', 'G': 'C'}\n",
    "    new_string = \"\".join(complement_map.get(base, base) for base in reversed_dna)\n",
    "    return new_string\n",
    "\n",
    "def reverse_complement_pythonic(genome_file):\n",
    "    with open(genome_file, 'r') as file:\n",
    "        dna = file.read().strip()\n",
    "    return dna.translate(str.maketrans('ATGC', 'TAGC'))[::-1]\n",
    "\n",
    "genome_file = \"datasets/rosalind_revc.txt\"\n",
    "reverse_complement(genome_file)\n",
    "reverse_complement_pythonic(genome_file)\n"
   ]
  },
  {
   "cell_type": "code",
   "execution_count": 2,
   "metadata": {},
   "outputs": [
    {
     "data": {
      "text/plain": [
       "249650241628"
      ]
     },
     "execution_count": 2,
     "metadata": {},
     "output_type": "execute_result"
    }
   ],
   "source": [
    "# Rabbits and Recurrence Relations\n",
    "# Given: Positive integers n ≤40 and k ≤5.\n",
    "# Return: The total number of rabbit pairs that will be present after n months, \n",
    "# if we begin with 1 pair and in each generation, every pair of reproduction-age rabbits produces a litter of k rabbit pairs (instead of only 1 pair).\n",
    "\n",
    "def fibonacci_rabbits(n, k):\n",
    "    if n == 0:\n",
    "        return 0 # No rabbits at the start\n",
    "    elif n == 1:\n",
    "        return 1 # Initial Pair\n",
    "    else:\n",
    "        return fibonacci_rabbits(n - 1, k) + k * fibonacci_rabbits(n - 2, k)\n",
    "\n",
    "fibonacci_rabbits(33, 3)"
   ]
  },
  {
   "cell_type": "markdown",
   "metadata": {},
   "source": [
    "In practice, the GC-content of most eukaryotic genomes hovers around 50%. However, because genomes are so long, we may be able to distinguish species based on very small discrepancies in GC-content; furthermore, most prokaryotes have a GC-content significantly higher than 50%, so that GC-content can be used to quickly differentiate many prokaryotes and eukaryotes by using relatively small DNA samples"
   ]
  },
  {
   "cell_type": "code",
   "execution_count": 10,
   "metadata": {},
   "outputs": [
    {
     "name": "stdout",
     "output_type": "stream",
     "text": [
      "Rosalind_4575\n",
      "52.457372\n"
     ]
    }
   ],
   "source": [
    "# Computing GC Content\n",
    "# Given: At most 10 DNA strings in FASTA format (of length at most 1 kbp each).\n",
    "# Return: The ID of the string having the highest GC-content, followed by the GC-content of that string. \n",
    "# Rosalind allows for a default error of 0.001 in all decimal answers unless otherwise stated; please see the note on absolute error below.\n",
    "\n",
    "from Bio import SeqIO\n",
    "from Bio.SeqUtils import gc_fraction\n",
    "\n",
    "max_gc_content = 0\n",
    "max_gc_seq_id = \"\"\n",
    "\n",
    "for record in SeqIO.parse(\"datasets/rosalind_gc.txt\", \"fasta\"):\n",
    "    gc_content = gc_fraction(record.seq) * 100  # Calculate percentage\n",
    "    if gc_content > max_gc_content:\n",
    "        max_gc_content = gc_content\n",
    "        max_gc_seq_id = record.id\n",
    "\n",
    "print(f\"{max_gc_seq_id}\\n{max_gc_content:.6f}\") "
   ]
  },
  {
   "cell_type": "code",
   "execution_count": null,
   "metadata": {},
   "outputs": [],
   "source": [
    "# Counting Point Mutations\n",
    "\n",
    "# Given: Two DNA strings s and t of equal length (not exceeding 1 kbp).\n",
    "# Return: The Hamming distance dH(s,t).\n",
    "\n"
   ]
  }
 ],
 "metadata": {
  "kernelspec": {
   "display_name": "Python 3",
   "language": "python",
   "name": "python3"
  },
  "language_info": {
   "codemirror_mode": {
    "name": "ipython",
    "version": 3
   },
   "file_extension": ".py",
   "mimetype": "text/x-python",
   "name": "python",
   "nbconvert_exporter": "python",
   "pygments_lexer": "ipython3",
   "version": "3.12.4"
  }
 },
 "nbformat": 4,
 "nbformat_minor": 2
}
