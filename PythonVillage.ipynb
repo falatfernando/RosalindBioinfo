{
 "cells": [
  {
   "cell_type": "code",
   "execution_count": null,
   "metadata": {},
   "outputs": [],
   "source": [
    "# Given: Two positive integers a and b, each less than 1000. Return: \n",
    "# The integer corresponding to the square of the hypotenuse of the right triangle whose legs have lengths a and b.\n",
    "a = 932\n",
    "b = 922\n",
    "c = (a**2 + b**2)\n",
    "print(c)"
   ]
  },
  {
   "cell_type": "code",
   "execution_count": null,
   "metadata": {},
   "outputs": [],
   "source": [
    "# Given: A string s of length at most 200 letters and four integers a, b, c and d. \n",
    "# Return: The slice of this string from indices a through b and c through d (with space in between), inclusively.\n",
    "# In other words, we should include elements s[b] and s[d] in our slice.\n",
    "s = \"Wmi8lloxLIRZVm0FlirMadagascarophislI1WBbQ0xwaXulikovskiiMXeuT5B69uEFFAnaoGDJY6QhLkf8FrOELkS4HP2NTqYg5zhAuKj2pVStxoOlfhhzMUMrh2k8EXNZ3bj42KWXdGTkCTZ3MMgcC7w4i4MD8SQXLfUQulsDChSMjBlnyC20WJxEp1z48N.\"\n",
    "a = 19\n",
    "b = 33\n",
    "c = 46\n",
    "d = 55\n",
    "result = s[a:b + 1] + \" \" + s[c:d +1]\n",
    "print(result)\n"
   ]
  },
  {
   "cell_type": "code",
   "execution_count": null,
   "metadata": {},
   "outputs": [],
   "source": [
    "# Conditions and loops\n",
    "# Given: Two positive integers a and b (a < b < 10000).\n",
    "# Return: The sum of all odd integers from a through b, inclusively.\n",
    "\n",
    "a = 4080\n",
    "b = 8931\n",
    "total = 0\n",
    "\n",
    "for num in range(a, b + 1):  # Iterate from a to b (inclusive)\n",
    "        if num % 2 == 1:         # Check if the number is odd\n",
    "            total += num  \n",
    "\n",
    "print(total)"
   ]
  },
  {
   "cell_type": "code",
   "execution_count": null,
   "metadata": {},
   "outputs": [],
   "source": [
    "# Working with files\n",
    "# Given: A file containing at most 1000 lines.\n",
    "# Return: A file containing all the even-numbered lines from the original file. Assume 1-based numbering of lines.\n",
    "\n",
    "def file_even_lines(input_filename, output_filename):\n",
    "    with open(input_filename, 'r') as infile, open(output_filename, 'w') as outfile:\n",
    "        line_number = 1  # Start counting lines from 1 (1-based)\n",
    "        \n",
    "        for line in infile:\n",
    "            if line_number % 2  == 0:\n",
    "                outfile.write(line)\n",
    "            line_number += 1\n",
    "\n",
    "# Get user input for file names\n",
    "input_file = \"datasets/rosalind_ini5.txt\"\n",
    "output_file = \"datasets/rosalind_files.txt\"\n",
    "\n",
    "# Call the function to process files\n",
    "file_even_lines(input_file, output_file)\n",
    "\n",
    "print(\"Even-numbered lines written to:\", output_file)"
   ]
  },
  {
   "cell_type": "code",
   "execution_count": null,
   "metadata": {},
   "outputs": [],
   "source": [
    "# Dictonaries\n",
    "# Given: A string s of length at most 10000 letters.\n",
    "# Return: The number of occurrences of each word in s, \n",
    "# where words are separated by spaces. Words are case-sensitive, and the lines in the output can be in any order.\n",
    "\n",
    "def word_count(filename):\n",
    "\n",
    "    word_counts = {}  \n",
    "\n",
    "    # Open the file and read the text\n",
    "    with open(filename, 'r') as file:\n",
    "        text = file.read() \n",
    "\n",
    "    words = text.split()  # Now split the text into words\n",
    "\n",
    "    for word in words:\n",
    "        if word in word_counts:\n",
    "            word_counts[word] += 1  \n",
    "        else:\n",
    "            word_counts[word] = 1  \n",
    "\n",
    "    # Print the results in a readable format\n",
    "    for word, count in word_counts.items():\n",
    "        print(f\"{word} {count}\")\n",
    "\n",
    "# Example usage\n",
    "filename = \"datasets/rosalind_ini6.txt\"\n",
    "word_count(filename)"
   ]
  },
  {
   "cell_type": "code",
   "execution_count": null,
   "metadata": {},
   "outputs": [],
   "source": []
  }
 ],
 "metadata": {
  "kernelspec": {
   "display_name": "Python 3",
   "language": "python",
   "name": "python3"
  },
  "language_info": {
   "codemirror_mode": {
    "name": "ipython",
    "version": 3
   },
   "file_extension": ".py",
   "mimetype": "text/x-python",
   "name": "python",
   "nbconvert_exporter": "python",
   "pygments_lexer": "ipython3",
   "version": "3.12.2"
  }
 },
 "nbformat": 4,
 "nbformat_minor": 2
}
